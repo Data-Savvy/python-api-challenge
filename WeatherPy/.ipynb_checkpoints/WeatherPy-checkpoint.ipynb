{
 "cells": [
  {
   "cell_type": "markdown",
   "metadata": {},
   "source": [
    "# WeatherPy\n",
    "----\n",
    "\n",
    "#### Note\n",
    "* Instructions have been included for each segment. You do not have to follow them exactly, but they are included to help you think through the steps."
   ]
  },
  {
   "cell_type": "markdown",
   "metadata": {},
   "source": [
    "Analysis:\n",
    "\n",
    "1. Based on the data, the closer a city is to the equator, the hotter it's going to be.\n",
    "2. Cloudy days and  wind speed are not limited to any one part of the world.\n",
    "3. Despite some cities being much hotter than other cities, most cities across the world are high humidity on september 14, 2020.\n"
   ]
  },
  {
   "cell_type": "code",
   "execution_count": 2,
   "metadata": {},
   "outputs": [
    {
     "name": "stdout",
     "output_type": "stream",
     "text": [
      "Collecting citipy\n",
      "  Downloading citipy-0.0.5.tar.gz (557 kB)\n",
      "Collecting kdtree>=0.12\n",
      "  Downloading kdtree-0.16-py2.py3-none-any.whl (7.7 kB)\n",
      "Building wheels for collected packages: citipy\n",
      "  Building wheel for citipy (setup.py): started\n",
      "  Building wheel for citipy (setup.py): finished with status 'done'\n",
      "  Created wheel for citipy: filename=citipy-0.0.5-py3-none-any.whl size=559707 sha256=a9666aba77f8fdd18c50dbc7cf102c8571e3030f1d7f43db2d650449581276cf\n",
      "  Stored in directory: c:\\users\\582807\\appdata\\local\\pip\\cache\\wheels\\6d\\df\\5e\\ad8eb9cc5ee7f4ba76865167c09f9a7edff405c669111d8353\n",
      "Successfully built citipy\n",
      "Installing collected packages: kdtree, citipy\n",
      "Successfully installed citipy-0.0.5 kdtree-0.16\n",
      "Note: you may need to restart the kernel to use updated packages.\n"
     ]
    }
   ],
   "source": [
    "pip install citipy"
   ]
  },
  {
   "cell_type": "code",
   "execution_count": 78,
   "metadata": {
    "scrolled": true
   },
   "outputs": [],
   "source": [
    "# Dependencies and Setup\n",
    "import matplotlib.pyplot as plt\n",
    "import pandas as pd\n",
    "import numpy as np\n",
    "import json \n",
    "import requests\n",
    "import time\n",
    "import scipy.stats as st\n",
    "from scipy.stats import linregress\n",
    "\n",
    "# Import API key\n",
    "from api_key import weather_api_key\n",
    "\n",
    "# Incorporated citipy to determine city based on latitude and longitude\n",
    "from citipy import citipy\n",
    "\n",
    "# Output File (CSV)\n",
    "output_data_file = \"output_data/cities.csv\"\n",
    "\n",
    "# Range of latitudes and longitudes\n",
    "lat_range = (-90, 90)\n",
    "lng_range = (-180, 180)\n",
    "\n",
    "# define url\n",
    "query_url = f\"http://api.openweathermap.org/data/2.5/weather?appid={weather_api_key}&units=imperial&q=\"\n",
    "\n"
   ]
  },
  {
   "cell_type": "markdown",
   "metadata": {},
   "source": [
    "## Generate Cities List"
   ]
  },
  {
   "cell_type": "code",
   "execution_count": 2,
   "metadata": {},
   "outputs": [
    {
     "data": {
      "text/plain": [
       "577"
      ]
     },
     "execution_count": 2,
     "metadata": {},
     "output_type": "execute_result"
    }
   ],
   "source": [
    "# List for holding lat_lngs and cities\n",
    "lat_lngs = []\n",
    "cities = []\n",
    "\n",
    "# Create a set of random lat and lng combinations\n",
    "lats = np.random.uniform(lat_range[0], lat_range[1], size=1500)\n",
    "lngs = np.random.uniform(lng_range[0], lng_range[1], size=1500)\n",
    "lat_lngs = zip(lats, lngs)\n",
    "\n",
    "# Identify nearest city for each lat, lng combination\n",
    "for lat_lng in lat_lngs:\n",
    "    city = citipy.nearest_city(lat_lng[0], lat_lng[1]).city_name\n",
    "    \n",
    "    # If the city is unique, then add it to a our cities list\n",
    "    if city not in cities:\n",
    "        cities.append(city)\n",
    "\n",
    "# Print the city count to confirm sufficient count\n",
    "len(cities)"
   ]
  },
  {
   "cell_type": "markdown",
   "metadata": {},
   "source": [
    "### Perform API Calls\n",
    "* Perform a weather check on each city using a series of successive API calls.\n",
    "* Include a print log of each city as it'sbeing processed (with the city number and city name).\n"
   ]
  },
  {
   "cell_type": "code",
   "execution_count": 35,
   "metadata": {},
   "outputs": [
    {
     "name": "stdout",
     "output_type": "stream",
     "text": [
      "Processing Record 1 of Set 1 | cidreira\n",
      "Processing Record 2 of Set 1 | nanortalik\n",
      "Processing Record 3 of Set 1 | ushuaia\n",
      "Processing Record 4 of Set 1 | punta arenas\n",
      "Processing Record 5 of Set 1 | luderitz\n",
      "Processing Record 6 of Set 1 | roebourne\n",
      "Processing Record 7 of Set 1 | fene\n",
      "Processing Record 8 of Set 1 | machiques\n",
      "Processing Record 9 of Set 1 | faanui\n",
      "Processing Record 10 of Set 1 | atuona\n",
      "Processing Record 11 of Set 1 | nabire\n",
      "Processing Record 12 of Set 1 | chokurdakh\n",
      "Processing Record 13 of Set 1 | fortuna\n",
      "Processing Record 14 of Set 1 | mahebourg\n",
      "Processing Record 15 of Set 1 | port-gentil\n",
      "Processing Record 16 of Set 1 | georgetown\n",
      "Processing Record 17 of Set 1 | lompoc\n",
      "Processing Record 18 of Set 1 | apricena\n",
      "City not found. Skipping...\n",
      "Processing Record 19 of Set 1 | mataura\n",
      "Processing Record 20 of Set 1 | albany\n",
      "Processing Record 21 of Set 1 | kloulklubed\n",
      "Processing Record 22 of Set 1 | upernavik\n",
      "Processing Record 23 of Set 1 | thompson\n",
      "Processing Record 24 of Set 1 | fukue\n",
      "Processing Record 25 of Set 1 | makakilo city\n",
      "Processing Record 26 of Set 1 | straumen\n",
      "Processing Record 27 of Set 1 | tarbagatay\n",
      "Processing Record 28 of Set 1 | avarua\n",
      "Processing Record 29 of Set 1 | mount gambier\n",
      "Processing Record 30 of Set 1 | castro\n",
      "Processing Record 31 of Set 1 | hobart\n",
      "Processing Record 32 of Set 1 | qaanaaq\n",
      "Processing Record 33 of Set 1 | constitucion\n",
      "Processing Record 34 of Set 1 | necochea\n",
      "Processing Record 35 of Set 1 | pointe michel\n",
      "Processing Record 36 of Set 1 | yellowknife\n",
      "Processing Record 37 of Set 1 | mancio lima\n",
      "Processing Record 38 of Set 1 | kapaa\n",
      "City not found. Skipping...\n",
      "Processing Record 39 of Set 1 | arlit\n",
      "Processing Record 40 of Set 1 | los llanos de aridane\n",
      "Processing Record 41 of Set 1 | alofi\n",
      "Processing Record 42 of Set 1 | grand gaube\n",
      "Processing Record 43 of Set 1 | rikitea\n",
      "Processing Record 44 of Set 1 | the valley\n",
      "Processing Record 45 of Set 1 | port hardy\n",
      "City not found. Skipping...\n",
      "Processing Record 46 of Set 1 | lasa\n",
      "Processing Record 47 of Set 1 | sochaczew\n",
      "City not found. Skipping...\n",
      "Processing Record 48 of Set 1 | kiunga\n",
      "Processing Record 49 of Set 1 | tual\n",
      "Processing Record 0 of Set 2 | saint-philippe\n",
      "Processing Record 1 of Set 2 | katherine\n",
      "Processing Record 2 of Set 2 | kruisfontein\n",
      "Processing Record 3 of Set 2 | farmington\n",
      "Processing Record 4 of Set 2 | barrow\n",
      "Processing Record 5 of Set 2 | vaini\n",
      "Processing Record 6 of Set 2 | cootamundra\n",
      "Processing Record 7 of Set 2 | port elizabeth\n",
      "Processing Record 8 of Set 2 | bulgan\n",
      "Processing Record 9 of Set 2 | tombouctou\n",
      "Processing Record 10 of Set 2 | abrau-dyurso\n",
      "Processing Record 11 of Set 2 | khatanga\n",
      "Processing Record 12 of Set 2 | korla\n",
      "Processing Record 13 of Set 2 | hermanus\n",
      "City not found. Skipping...\n",
      "Processing Record 14 of Set 2 | dikson\n",
      "Processing Record 15 of Set 2 | souillac\n",
      "Processing Record 16 of Set 2 | miami beach\n",
      "City not found. Skipping...\n",
      "Processing Record 17 of Set 2 | viedma\n",
      "Processing Record 18 of Set 2 | hay river\n",
      "City not found. Skipping...\n",
      "Processing Record 19 of Set 2 | san jose\n",
      "Processing Record 20 of Set 2 | dicabisagan\n",
      "Processing Record 21 of Set 2 | fare\n",
      "Processing Record 22 of Set 2 | san quintin\n",
      "City not found. Skipping...\n",
      "Processing Record 23 of Set 2 | elk plain\n",
      "Processing Record 24 of Set 2 | carnarvon\n",
      "Processing Record 25 of Set 2 | naze\n",
      "Processing Record 26 of Set 2 | busselton\n",
      "Processing Record 27 of Set 2 | kaitangata\n",
      "Processing Record 28 of Set 2 | chuy\n",
      "Processing Record 29 of Set 2 | flinders\n",
      "Processing Record 30 of Set 2 | norman wells\n",
      "Processing Record 31 of Set 2 | provideniya\n",
      "Processing Record 32 of Set 2 | tuktoyaktuk\n",
      "Processing Record 33 of Set 2 | clyde river\n",
      "Processing Record 34 of Set 2 | hithadhoo\n",
      "Processing Record 35 of Set 2 | pangai\n",
      "Processing Record 36 of Set 2 | new norfolk\n",
      "City not found. Skipping...\n",
      "Processing Record 37 of Set 2 | tessalit\n",
      "City not found. Skipping...\n",
      "City not found. Skipping...\n",
      "Processing Record 38 of Set 2 | sorong\n",
      "Processing Record 39 of Set 2 | harper\n",
      "Processing Record 40 of Set 2 | anadyr\n",
      "Processing Record 41 of Set 2 | jamestown\n",
      "Processing Record 42 of Set 2 | biak\n",
      "City not found. Skipping...\n",
      "Processing Record 43 of Set 2 | kirishi\n",
      "Processing Record 44 of Set 2 | cape town\n",
      "Processing Record 45 of Set 2 | bredasdorp\n",
      "City not found. Skipping...\n",
      "Processing Record 46 of Set 2 | nurota\n",
      "Processing Record 47 of Set 2 | ascension\n",
      "Processing Record 48 of Set 2 | lorengau\n",
      "City not found. Skipping...\n",
      "Processing Record 49 of Set 2 | sioux lookout\n",
      "Processing Record 0 of Set 3 | sao joao da barra\n",
      "Processing Record 1 of Set 3 | kahului\n",
      "Processing Record 2 of Set 3 | salalah\n",
      "City not found. Skipping...\n",
      "Processing Record 3 of Set 3 | bluff\n",
      "Processing Record 4 of Set 3 | sur\n",
      "Processing Record 5 of Set 3 | srednekolymsk\n",
      "Processing Record 6 of Set 3 | longyearbyen\n",
      "Processing Record 7 of Set 3 | ancud\n",
      "Processing Record 8 of Set 3 | boa vista\n",
      "Processing Record 9 of Set 3 | grojec\n",
      "Processing Record 10 of Set 3 | mabaruma\n",
      "Processing Record 11 of Set 3 | puerto ayora\n",
      "City not found. Skipping...\n",
      "Processing Record 12 of Set 3 | ixtapa\n",
      "City not found. Skipping...\n",
      "Processing Record 13 of Set 3 | bowen\n",
      "Processing Record 14 of Set 3 | rawson\n",
      "Processing Record 15 of Set 3 | xiongzhou\n",
      "Processing Record 16 of Set 3 | caravelas\n",
      "Processing Record 17 of Set 3 | saskylakh\n",
      "Processing Record 18 of Set 3 | corumba\n",
      "Processing Record 19 of Set 3 | laguna\n",
      "Processing Record 20 of Set 3 | coihaique\n",
      "Processing Record 21 of Set 3 | xining\n",
      "Processing Record 22 of Set 3 | tiksi\n",
      "Processing Record 23 of Set 3 | mar del plata\n",
      "Processing Record 24 of Set 3 | ribeira grande\n",
      "Processing Record 25 of Set 3 | vestmannaeyjar\n",
      "City not found. Skipping...\n",
      "Processing Record 26 of Set 3 | titlagarh\n",
      "Processing Record 27 of Set 3 | vigrestad\n",
      "Processing Record 28 of Set 3 | nome\n",
      "Processing Record 29 of Set 3 | lethem\n",
      "Processing Record 30 of Set 3 | otane\n",
      "Processing Record 31 of Set 3 | sapa\n",
      "Processing Record 32 of Set 3 | college\n",
      "Processing Record 33 of Set 3 | barbacena\n",
      "Processing Record 34 of Set 3 | nikolskoye\n",
      "Processing Record 35 of Set 3 | yulara\n",
      "Processing Record 36 of Set 3 | cabo san lucas\n",
      "Processing Record 37 of Set 3 | joshimath\n",
      "City not found. Skipping...\n",
      "City not found. Skipping...\n",
      "Processing Record 38 of Set 3 | salinas\n",
      "Processing Record 39 of Set 3 | comodoro rivadavia\n",
      "Processing Record 40 of Set 3 | grants\n",
      "Processing Record 41 of Set 3 | crestview\n",
      "Processing Record 42 of Set 3 | lebu\n",
      "Processing Record 43 of Set 3 | arraial do cabo\n",
      "City not found. Skipping...\n",
      "Processing Record 44 of Set 3 | hilo\n",
      "Processing Record 45 of Set 3 | bathsheba\n",
      "Processing Record 46 of Set 3 | bethel\n",
      "Processing Record 47 of Set 3 | skibbereen\n",
      "Processing Record 48 of Set 3 | bonthe\n",
      "Processing Record 49 of Set 3 | alice springs\n",
      "Processing Record 0 of Set 4 | pennagaram\n",
      "Processing Record 1 of Set 4 | dingle\n",
      "Processing Record 2 of Set 4 | warburton\n",
      "Processing Record 3 of Set 4 | vanimo\n",
      "Processing Record 4 of Set 4 | bambous virieux\n",
      "Processing Record 5 of Set 4 | pisco\n",
      "City not found. Skipping...\n",
      "City not found. Skipping...\n",
      "City not found. Skipping...\n",
      "Processing Record 6 of Set 4 | namibe\n",
      "Processing Record 7 of Set 4 | lata\n",
      "Processing Record 8 of Set 4 | kushima\n",
      "Processing Record 9 of Set 4 | pundaguitan\n",
      "Processing Record 10 of Set 4 | benguela\n",
      "Processing Record 11 of Set 4 | banda aceh\n",
      "Processing Record 12 of Set 4 | byron bay\n",
      "Processing Record 13 of Set 4 | saint george\n",
      "Processing Record 14 of Set 4 | aksu\n",
      "Processing Record 15 of Set 4 | ligourion\n",
      "Processing Record 16 of Set 4 | tambacounda\n",
      "Processing Record 17 of Set 4 | diffa\n",
      "City not found. Skipping...\n",
      "Processing Record 18 of Set 4 | nouadhibou\n",
      "City not found. Skipping...\n",
      "Processing Record 19 of Set 4 | roald\n",
      "City not found. Skipping...\n",
      "Processing Record 20 of Set 4 | tulum\n",
      "Processing Record 21 of Set 4 | cherskiy\n",
      "City not found. Skipping...\n",
      "Processing Record 22 of Set 4 | hofn\n",
      "Processing Record 23 of Set 4 | coahuayana\n",
      "City not found. Skipping...\n",
      "Processing Record 24 of Set 4 | road town\n",
      "Processing Record 25 of Set 4 | brae\n",
      "Processing Record 26 of Set 4 | khanpur\n",
      "Processing Record 27 of Set 4 | jaisalmer\n",
      "Processing Record 28 of Set 4 | porto belo\n",
      "Processing Record 29 of Set 4 | riviere-du-loup\n",
      "Processing Record 30 of Set 4 | poum\n"
     ]
    },
    {
     "name": "stdout",
     "output_type": "stream",
     "text": [
      "Processing Record 31 of Set 4 | meulaboh\n",
      "Processing Record 32 of Set 4 | hinton\n",
      "Processing Record 33 of Set 4 | saint-joseph\n",
      "Processing Record 34 of Set 4 | east london\n",
      "Processing Record 35 of Set 4 | quesnel\n",
      "Processing Record 36 of Set 4 | ornes\n",
      "Processing Record 37 of Set 4 | ishigaki\n",
      "Processing Record 38 of Set 4 | pasni\n",
      "Processing Record 39 of Set 4 | butaritari\n",
      "Processing Record 40 of Set 4 | saint stephen\n",
      "Processing Record 41 of Set 4 | victoria\n",
      "Processing Record 42 of Set 4 | atasu\n",
      "Processing Record 43 of Set 4 | itoman\n",
      "Processing Record 44 of Set 4 | beringovskiy\n",
      "Processing Record 45 of Set 4 | varfurile\n",
      "Processing Record 46 of Set 4 | te anau\n",
      "Processing Record 47 of Set 4 | acari\n",
      "Processing Record 48 of Set 4 | yabrud\n",
      "Processing Record 49 of Set 4 | port lincoln\n",
      "Processing Record 0 of Set 5 | ranong\n",
      "Processing Record 1 of Set 5 | kununurra\n",
      "Processing Record 2 of Set 5 | vardo\n",
      "Processing Record 3 of Set 5 | marystown\n",
      "Processing Record 4 of Set 5 | rawah\n",
      "Processing Record 5 of Set 5 | kadiri\n",
      "Processing Record 6 of Set 5 | remedios\n",
      "Processing Record 7 of Set 5 | pevek\n",
      "City not found. Skipping...\n",
      "Processing Record 8 of Set 5 | mount isa\n",
      "Processing Record 9 of Set 5 | murgab\n",
      "Processing Record 10 of Set 5 | portland\n",
      "Processing Record 11 of Set 5 | assiniboia\n",
      "Processing Record 12 of Set 5 | ilulissat\n",
      "Processing Record 13 of Set 5 | port alfred\n",
      "Processing Record 14 of Set 5 | lavrentiya\n",
      "Processing Record 15 of Set 5 | kouroussa\n",
      "Processing Record 16 of Set 5 | kalmunai\n",
      "Processing Record 17 of Set 5 | guanica\n",
      "Processing Record 18 of Set 5 | mercedes\n",
      "Processing Record 19 of Set 5 | sorkjosen\n",
      "Processing Record 20 of Set 5 | santa fe\n",
      "Processing Record 21 of Set 5 | bulungu\n",
      "Processing Record 22 of Set 5 | port blair\n",
      "Processing Record 23 of Set 5 | udachnyy\n",
      "Processing Record 24 of Set 5 | turukhansk\n",
      "Processing Record 25 of Set 5 | kato glikovrisi\n",
      "Processing Record 26 of Set 5 | narsaq\n",
      "Processing Record 27 of Set 5 | kasongo-lunda\n",
      "Processing Record 28 of Set 5 | taoudenni\n",
      "Processing Record 29 of Set 5 | okha\n",
      "Processing Record 30 of Set 5 | santa maria\n",
      "Processing Record 31 of Set 5 | san patricio\n",
      "Processing Record 32 of Set 5 | booue\n",
      "Processing Record 33 of Set 5 | tautira\n",
      "Processing Record 34 of Set 5 | el dorado\n",
      "Processing Record 35 of Set 5 | lyman\n",
      "Processing Record 36 of Set 5 | smithers\n",
      "Processing Record 37 of Set 5 | salym\n",
      "Processing Record 38 of Set 5 | dunedin\n",
      "Processing Record 39 of Set 5 | shagamu\n",
      "Processing Record 40 of Set 5 | whitefish\n",
      "Processing Record 41 of Set 5 | sabha\n",
      "Processing Record 42 of Set 5 | cotonou\n",
      "Processing Record 43 of Set 5 | kindu\n",
      "Processing Record 44 of Set 5 | guaiuba\n",
      "Processing Record 45 of Set 5 | kerchevskiy\n",
      "Processing Record 46 of Set 5 | bure\n",
      "Processing Record 47 of Set 5 | ratnagiri\n",
      "Processing Record 48 of Set 5 | kashi\n",
      "City not found. Skipping...\n",
      "City not found. Skipping...\n",
      "Processing Record 49 of Set 5 | sao filipe\n",
      "Processing Record 0 of Set 6 | meridian\n",
      "Processing Record 1 of Set 6 | maltahohe\n",
      "Processing Record 2 of Set 6 | sudzha\n",
      "Processing Record 3 of Set 6 | shentala\n",
      "Processing Record 4 of Set 6 | karratha\n",
      "Processing Record 5 of Set 6 | kodiak\n",
      "City not found. Skipping...\n",
      "Processing Record 6 of Set 6 | charkhi dadri\n",
      "Processing Record 7 of Set 6 | ampanihy\n",
      "Processing Record 8 of Set 6 | mitzic\n",
      "City not found. Skipping...\n",
      "Processing Record 9 of Set 6 | margate\n",
      "Processing Record 10 of Set 6 | sale\n",
      "Processing Record 11 of Set 6 | dali\n",
      "Processing Record 12 of Set 6 | chapais\n",
      "Processing Record 13 of Set 6 | novosheshminsk\n",
      "Processing Record 14 of Set 6 | concarneau\n",
      "Processing Record 15 of Set 6 | jiaocheng\n",
      "Processing Record 16 of Set 6 | tuljapur\n",
      "Processing Record 17 of Set 6 | puerto varas\n",
      "City not found. Skipping...\n",
      "Processing Record 18 of Set 6 | jutai\n",
      "Processing Record 19 of Set 6 | ust-karsk\n",
      "Processing Record 20 of Set 6 | vallenar\n",
      "Processing Record 21 of Set 6 | dukat\n",
      "Processing Record 22 of Set 6 | ellsworth\n",
      "Processing Record 23 of Set 6 | ucluelet\n",
      "Processing Record 24 of Set 6 | ambilobe\n",
      "Processing Record 25 of Set 6 | krasnopavlivka\n",
      "Processing Record 26 of Set 6 | kavaratti\n",
      "Processing Record 27 of Set 6 | preobrazheniye\n",
      "Processing Record 28 of Set 6 | nizhniy kuranakh\n",
      "Processing Record 29 of Set 6 | navalgund\n",
      "Processing Record 30 of Set 6 | dawei\n",
      "Processing Record 31 of Set 6 | kavieng\n",
      "Processing Record 32 of Set 6 | sechura\n",
      "Processing Record 33 of Set 6 | tuatapere\n",
      "Processing Record 34 of Set 6 | anse-bertrand\n",
      "Processing Record 35 of Set 6 | mantua\n",
      "Processing Record 36 of Set 6 | ancuya\n",
      "Processing Record 37 of Set 6 | hami\n",
      "Processing Record 38 of Set 6 | hasaki\n",
      "Processing Record 39 of Set 6 | salinopolis\n",
      "Processing Record 40 of Set 6 | esso\n",
      "Processing Record 41 of Set 6 | kimbe\n",
      "Processing Record 42 of Set 6 | gavrilov-yam\n",
      "Processing Record 43 of Set 6 | rocha\n",
      "Processing Record 44 of Set 6 | knysna\n",
      "City not found. Skipping...\n",
      "City not found. Skipping...\n",
      "Processing Record 45 of Set 6 | bari\n",
      "Processing Record 46 of Set 6 | cauquenes\n",
      "Processing Record 47 of Set 6 | sukosd\n",
      "Processing Record 48 of Set 6 | luganville\n",
      "Processing Record 49 of Set 6 | esperance\n",
      "Processing Record 0 of Set 7 | tabou\n",
      "Processing Record 1 of Set 7 | doka\n",
      "Processing Record 2 of Set 7 | fuxin\n",
      "Processing Record 3 of Set 7 | wattegama\n",
      "Processing Record 4 of Set 7 | visby\n",
      "Processing Record 5 of Set 7 | airai\n",
      "Processing Record 6 of Set 7 | mbigou\n",
      "Processing Record 7 of Set 7 | saint-marc-des-carrieres\n",
      "Processing Record 8 of Set 7 | qixingtai\n",
      "Processing Record 9 of Set 7 | bantry\n",
      "Processing Record 10 of Set 7 | cabra\n",
      "City not found. Skipping...\n",
      "City not found. Skipping...\n",
      "Processing Record 11 of Set 7 | pangnirtung\n",
      "City not found. Skipping...\n",
      "City not found. Skipping...\n",
      "Processing Record 12 of Set 7 | nantucket\n",
      "Processing Record 13 of Set 7 | villiers\n",
      "Processing Record 14 of Set 7 | antofagasta\n",
      "Processing Record 15 of Set 7 | dolzhanskaya\n",
      "City not found. Skipping...\n",
      "Processing Record 16 of Set 7 | la ronge\n",
      "Processing Record 17 of Set 7 | coquimbo\n",
      "Processing Record 18 of Set 7 | guerrero negro\n",
      "Processing Record 19 of Set 7 | slave lake\n",
      "Processing Record 20 of Set 7 | muros\n",
      "Processing Record 21 of Set 7 | ayacucho\n",
      "Processing Record 22 of Set 7 | severo-kurilsk\n",
      "Processing Record 23 of Set 7 | kollam\n",
      "Processing Record 24 of Set 7 | sangin\n",
      "Processing Record 25 of Set 7 | muisne\n",
      "Processing Record 26 of Set 7 | klaksvik\n",
      "Processing Record 27 of Set 7 | kupang\n",
      "Processing Record 28 of Set 7 | waingapu\n",
      "Processing Record 29 of Set 7 | cam ranh\n",
      "Processing Record 30 of Set 7 | zimovniki\n",
      "Processing Record 31 of Set 7 | tigil\n",
      "Processing Record 32 of Set 7 | yukamenskoye\n",
      "Processing Record 33 of Set 7 | key largo\n",
      "Processing Record 34 of Set 7 | geraldton\n",
      "Processing Record 35 of Set 7 | husavik\n",
      "Processing Record 36 of Set 7 | erenhot\n",
      "Processing Record 37 of Set 7 | wainwright\n",
      "Processing Record 38 of Set 7 | namikupa\n",
      "Processing Record 39 of Set 7 | aklavik\n",
      "Processing Record 40 of Set 7 | aksarka\n",
      "City not found. Skipping...\n",
      "Processing Record 41 of Set 7 | dong xoai\n",
      "Processing Record 42 of Set 7 | belaya gora\n",
      "Processing Record 43 of Set 7 | gravdal\n",
      "Processing Record 44 of Set 7 | mehamn\n",
      "Processing Record 45 of Set 7 | aykhal\n",
      "Processing Record 46 of Set 7 | sitka\n",
      "Processing Record 47 of Set 7 | kibiti\n",
      "Processing Record 48 of Set 7 | dire\n",
      "Processing Record 49 of Set 7 | itarema\n",
      "Processing Record 0 of Set 8 | quatre cocos\n",
      "Processing Record 1 of Set 8 | ulladulla\n",
      "Processing Record 2 of Set 8 | vostok\n",
      "Processing Record 3 of Set 8 | solnechnyy\n",
      "Processing Record 4 of Set 8 | auki\n",
      "Processing Record 5 of Set 8 | lucea\n",
      "Processing Record 6 of Set 8 | wanaka\n",
      "Processing Record 7 of Set 8 | vodnyy\n",
      "Processing Record 8 of Set 8 | galesong\n",
      "Processing Record 9 of Set 8 | dongsheng\n",
      "Processing Record 10 of Set 8 | nara\n",
      "Processing Record 11 of Set 8 | izvestkovyy\n",
      "Processing Record 12 of Set 8 | tasiilaq\n",
      "Processing Record 13 of Set 8 | diamantino\n",
      "Processing Record 14 of Set 8 | praia da vitoria\n",
      "Processing Record 15 of Set 8 | pinega\n",
      "City not found. Skipping...\n",
      "Processing Record 16 of Set 8 | usinsk\n",
      "Processing Record 17 of Set 8 | ardalstangen\n",
      "Processing Record 18 of Set 8 | nyuksenitsa\n",
      "Processing Record 19 of Set 8 | porto santo\n",
      "Processing Record 20 of Set 8 | sorland\n",
      "Processing Record 21 of Set 8 | buraydah\n",
      "Processing Record 22 of Set 8 | zyryanovsk\n"
     ]
    },
    {
     "name": "stdout",
     "output_type": "stream",
     "text": [
      "Processing Record 23 of Set 8 | kumphawapi\n",
      "Processing Record 24 of Set 8 | catuday\n",
      "Processing Record 25 of Set 8 | holme\n",
      "Processing Record 26 of Set 8 | san cristobal\n",
      "Processing Record 27 of Set 8 | san lawrenz\n",
      "Processing Record 28 of Set 8 | fort nelson\n",
      "Processing Record 29 of Set 8 | iqaluit\n",
      "Processing Record 30 of Set 8 | tazovskiy\n",
      "Processing Record 31 of Set 8 | okhotsk\n",
      "Processing Record 32 of Set 8 | khasan\n",
      "Processing Record 33 of Set 8 | manokwari\n",
      "Processing Record 34 of Set 8 | surt\n",
      "Processing Record 35 of Set 8 | livingston\n",
      "Processing Record 36 of Set 8 | mountain home\n",
      "Processing Record 37 of Set 8 | hambantota\n",
      "Processing Record 38 of Set 8 | oriximina\n",
      "Processing Record 39 of Set 8 | bage\n",
      "Processing Record 40 of Set 8 | isangel\n",
      "Processing Record 41 of Set 8 | clevelandia\n",
      "Processing Record 42 of Set 8 | sao jose da coroa grande\n",
      "Processing Record 43 of Set 8 | stokmarknes\n",
      "Processing Record 44 of Set 8 | jacareacanga\n",
      "Processing Record 45 of Set 8 | manggar\n",
      "Processing Record 46 of Set 8 | canton\n",
      "Processing Record 47 of Set 8 | henderson\n",
      "City not found. Skipping...\n",
      "Processing Record 48 of Set 8 | mackay\n",
      "Processing Record 49 of Set 8 | moldovita\n",
      "Processing Record 0 of Set 9 | whitianga\n",
      "Processing Record 1 of Set 9 | marovoay\n",
      "Processing Record 2 of Set 9 | fairbanks\n",
      "Processing Record 3 of Set 9 | kenai\n",
      "City not found. Skipping...\n",
      "City not found. Skipping...\n",
      "Processing Record 4 of Set 9 | panchagarh\n",
      "Processing Record 5 of Set 9 | codrington\n",
      "Processing Record 6 of Set 9 | kaele\n",
      "Processing Record 7 of Set 9 | dhankuta\n",
      "Processing Record 8 of Set 9 | menongue\n",
      "Processing Record 9 of Set 9 | ryotsu\n",
      "Processing Record 10 of Set 9 | camacha\n",
      "Processing Record 11 of Set 9 | inhambane\n",
      "Processing Record 12 of Set 9 | torbay\n",
      "Processing Record 13 of Set 9 | broken hill\n",
      "Processing Record 14 of Set 9 | oranjestad\n",
      "City not found. Skipping...\n",
      "Processing Record 15 of Set 9 | tateyama\n",
      "Processing Record 16 of Set 9 | hamilton\n",
      "Processing Record 17 of Set 9 | umm bab\n",
      "Processing Record 18 of Set 9 | olenegorsk\n",
      "Processing Record 19 of Set 9 | leningradskiy\n",
      "Processing Record 20 of Set 9 | kokkola\n",
      "Processing Record 21 of Set 9 | bozoum\n",
      "Processing Record 22 of Set 9 | cayenne\n",
      "Processing Record 23 of Set 9 | talnakh\n",
      "Processing Record 24 of Set 9 | sydney\n",
      "Processing Record 25 of Set 9 | chemainus\n",
      "Processing Record 26 of Set 9 | farafangana\n",
      "Processing Record 27 of Set 9 | chunskiy\n",
      "Processing Record 28 of Set 9 | cassilandia\n",
      "Processing Record 29 of Set 9 | xiaoyi\n",
      "Processing Record 30 of Set 9 | bengkulu\n",
      "Processing Record 31 of Set 9 | sumbe\n",
      "Processing Record 32 of Set 9 | baykit\n",
      "Processing Record 33 of Set 9 | macas\n",
      "Processing Record 34 of Set 9 | ahar\n",
      "Processing Record 35 of Set 9 | kilimatinde\n",
      "Processing Record 36 of Set 9 | escanaba\n",
      "Processing Record 37 of Set 9 | sabana de torres\n",
      "Processing Record 38 of Set 9 | saint-pierre\n",
      "Processing Record 39 of Set 9 | cuenca\n",
      "Processing Record 40 of Set 9 | kirakira\n",
      "Processing Record 41 of Set 9 | egvekinot\n",
      "Processing Record 42 of Set 9 | uige\n",
      "Processing Record 43 of Set 9 | haines junction\n",
      "Processing Record 44 of Set 9 | zella-mehlis\n",
      "Processing Record 45 of Set 9 | sibolga\n",
      "Processing Record 46 of Set 9 | baruun-urt\n",
      "Processing Record 47 of Set 9 | burgeo\n",
      "Processing Record 48 of Set 9 | amberley\n",
      "City not found. Skipping...\n",
      "Processing Record 49 of Set 9 | naryan-mar\n",
      "Processing Record 0 of Set 10 | garango\n",
      "Processing Record 1 of Set 10 | bonavista\n",
      "Processing Record 2 of Set 10 | neyvo-shaytanskiy\n",
      "Processing Record 3 of Set 10 | bandarbeyla\n",
      "Processing Record 4 of Set 10 | santa lucia\n",
      "City not found. Skipping...\n",
      "Processing Record 5 of Set 10 | mangan\n",
      "Processing Record 6 of Set 10 | julio de castilhos\n",
      "City not found. Skipping...\n",
      "Processing Record 7 of Set 10 | henties bay\n",
      "Processing Record 8 of Set 10 | phonhong\n",
      "Processing Record 9 of Set 10 | richards bay\n",
      "Processing Record 10 of Set 10 | jand\n",
      "Processing Record 11 of Set 10 | zhoucheng\n",
      "Processing Record 12 of Set 10 | rapid valley\n",
      "Processing Record 13 of Set 10 | yaan\n",
      "Processing Record 14 of Set 10 | conde\n",
      "City not found. Skipping...\n",
      "Processing Record 15 of Set 10 | jalu\n",
      "Processing Record 16 of Set 10 | awbari\n",
      "Processing Record 17 of Set 10 | el copey\n",
      "Processing Record 18 of Set 10 | quelimane\n",
      "Processing Record 19 of Set 10 | divnogorsk\n",
      "Processing Record 20 of Set 10 | srandakan\n",
      "Processing Record 21 of Set 10 | orlik\n",
      "Processing Record 22 of Set 10 | taga\n",
      "Processing Record 23 of Set 10 | zhicheng\n",
      "Processing Record 24 of Set 10 | jiwani\n",
      "Processing Record 25 of Set 10 | guanare\n",
      "Processing Record 26 of Set 10 | nerja\n",
      "Processing Record 27 of Set 10 | miramar\n",
      "Processing Record 28 of Set 10 | marienburg\n",
      "Processing Record 29 of Set 10 | pemba\n",
      "Processing Record 30 of Set 10 | vao\n",
      "Processing Record 31 of Set 10 | iskateley\n",
      "Processing Record 32 of Set 10 | berlevag\n",
      "Processing Record 33 of Set 10 | marsa matruh\n",
      "Processing Record 34 of Set 10 | ambon\n",
      "Processing Record 35 of Set 10 | araouane\n",
      "Processing Record 36 of Set 10 | pedernales\n",
      "Processing Record 37 of Set 10 | grindavik\n",
      "Processing Record 38 of Set 10 | san antonio\n",
      "Processing Record 39 of Set 10 | sebeta\n",
      "Processing Record 40 of Set 10 | gat\n",
      "Processing Record 41 of Set 10 | kitale\n",
      "Processing Record 42 of Set 10 | kristinehamn\n",
      "Processing Record 43 of Set 10 | axim\n",
      "Processing Record 44 of Set 10 | arraias\n",
      "City not found. Skipping...\n",
      "Processing Record 45 of Set 10 | falam\n",
      "Processing Record 46 of Set 10 | shimoda\n",
      "Processing Record 47 of Set 10 | bilibino\n",
      "Processing Record 48 of Set 10 | kerema\n",
      "Processing Record 49 of Set 10 | filingue\n",
      "Processing Record 0 of Set 11 | saurimo\n",
      "Processing Record 1 of Set 11 | can tho\n",
      "Processing Record 2 of Set 11 | xifeng\n",
      "Processing Record 3 of Set 11 | tura\n",
      "Processing Record 4 of Set 11 | okoneshnikovo\n",
      "Processing Record 5 of Set 11 | puerto madero\n",
      "Processing Record 6 of Set 11 | uruguaiana\n",
      "Processing Record 7 of Set 11 | vila franca do campo\n",
      "Processing Record 8 of Set 11 | chamalieres\n",
      "Processing Record 9 of Set 11 | sembakung\n",
      "Processing Record 10 of Set 11 | chapleau\n",
      "Processing Record 11 of Set 11 | komsomolskiy\n",
      "Processing Record 12 of Set 11 | nemuro\n",
      "Processing Record 13 of Set 11 | boende\n",
      "Processing Record 14 of Set 11 | wilmington\n",
      "Processing Record 15 of Set 11 | gwembe\n",
      "Processing Record 16 of Set 11 | innisfail\n",
      "Processing Record 17 of Set 11 | natitingou\n",
      "Processing Record 18 of Set 11 | kapuskasing\n",
      "Processing Record 19 of Set 11 | jacqueville\n",
      "Processing Record 20 of Set 11 | sambava\n",
      "Processing Record 21 of Set 11 | bytosh\n",
      "Processing Record 22 of Set 11 | havre-saint-pierre\n",
      "Processing Record 23 of Set 11 | westport\n",
      "Processing Record 24 of Set 11 | podkletnoye\n",
      "------------------------------\n",
      "Data Retrieval Complete\n",
      "------------------------------\n"
     ]
    }
   ],
   "source": [
    "# set lists for the dataframe\n",
    "avail_city = []\n",
    "cloudiness = []\n",
    "dates = []\n",
    "humidities = []\n",
    "lats = []\n",
    "lngs = []\n",
    "max_temps = []\n",
    "wind_speeds = []\n",
    "countries = []\n",
    "\n",
    "# define count of pass throughs\n",
    "count = 0\n",
    "set_num = 1\n",
    "\n",
    "for city in cities:\n",
    "    try:\n",
    "        url =query_url + city\n",
    "        response = requests.get(url).json()\n",
    "        cloudiness.append(response[\"clouds\"][\"all\"])\n",
    "        dates.append(response[\"dt\"])\n",
    "        humidities.append(response[\"main\"][\"humidity\"])\n",
    "        lats.append(response[\"coord\"][\"lat\"])\n",
    "        lngs.append(response[\"coord\"][\"lon\"])\n",
    "        max_temps.append(response[\"main\"][\"temp_max\"])\n",
    "        wind_speeds.append(response[\"wind\"][\"speed\"])\n",
    "        countries.append(response[\"sys\"][\"country\"])\n",
    "        avail_city.append(city)\n",
    "        if count > 48:\n",
    "            count = 0\n",
    "            set_num += 1\n",
    "        else:\n",
    "            count += 1\n",
    "        print(f\"Processing Record {count} of Set {set_num} | {city}\")\n",
    "    except Exception:\n",
    "        print(\"City not found. Skipping...\")\n",
    "print(\"------------------------------\\nData Retrieval Complete\\n------------------------------\")\n",
    "        \n"
   ]
  },
  {
   "cell_type": "markdown",
   "metadata": {},
   "source": [
    "### Convert Raw Data to DataFrame\n",
    "* Export the city data into a .csv.\n",
    "* Display the DataFrame"
   ]
  },
  {
   "cell_type": "code",
   "execution_count": 40,
   "metadata": {},
   "outputs": [],
   "source": [
    "weather = pd.DataFrame({\"City\": avail_city,\n",
    "                        \"Lat\" : lats,\n",
    "                        \"Lng\" : lngs,\n",
    "                        \"Max Temp\" : max_temps,\n",
    "                        \"Humidity\" : humidities,\n",
    "                        \"Cloudiness\" : cloudiness,\n",
    "                        \"Wind Speed\" : wind_speeds,\n",
    "                        \"Country\" : countries,\n",
    "                        \"Date\" : dates\n",
    "                       })\n",
    "\n"
   ]
  },
  {
   "cell_type": "code",
   "execution_count": 41,
   "metadata": {},
   "outputs": [
    {
     "data": {
      "text/plain": [
       "City          524\n",
       "Lat           524\n",
       "Lng           524\n",
       "Max Temp      524\n",
       "Humidity      524\n",
       "Cloudiness    524\n",
       "Wind Speed    524\n",
       "Country       524\n",
       "Date          524\n",
       "dtype: int64"
      ]
     },
     "execution_count": 41,
     "metadata": {},
     "output_type": "execute_result"
    }
   ],
   "source": [
    "weather.count()"
   ]
  },
  {
   "cell_type": "code",
   "execution_count": 42,
   "metadata": {},
   "outputs": [
    {
     "data": {
      "text/html": [
       "<div>\n",
       "<style scoped>\n",
       "    .dataframe tbody tr th:only-of-type {\n",
       "        vertical-align: middle;\n",
       "    }\n",
       "\n",
       "    .dataframe tbody tr th {\n",
       "        vertical-align: top;\n",
       "    }\n",
       "\n",
       "    .dataframe thead th {\n",
       "        text-align: right;\n",
       "    }\n",
       "</style>\n",
       "<table border=\"1\" class=\"dataframe\">\n",
       "  <thead>\n",
       "    <tr style=\"text-align: right;\">\n",
       "      <th></th>\n",
       "      <th>City</th>\n",
       "      <th>Lat</th>\n",
       "      <th>Lng</th>\n",
       "      <th>Max Temp</th>\n",
       "      <th>Humidity</th>\n",
       "      <th>Cloudiness</th>\n",
       "      <th>Wind Speed</th>\n",
       "      <th>Country</th>\n",
       "      <th>Date</th>\n",
       "    </tr>\n",
       "  </thead>\n",
       "  <tbody>\n",
       "    <tr>\n",
       "      <th>0</th>\n",
       "      <td>cidreira</td>\n",
       "      <td>-30.18</td>\n",
       "      <td>-50.21</td>\n",
       "      <td>65.73</td>\n",
       "      <td>89</td>\n",
       "      <td>98</td>\n",
       "      <td>8.81</td>\n",
       "      <td>BR</td>\n",
       "      <td>1600053846</td>\n",
       "    </tr>\n",
       "    <tr>\n",
       "      <th>1</th>\n",
       "      <td>nanortalik</td>\n",
       "      <td>60.14</td>\n",
       "      <td>-45.24</td>\n",
       "      <td>37.71</td>\n",
       "      <td>74</td>\n",
       "      <td>52</td>\n",
       "      <td>3.29</td>\n",
       "      <td>GL</td>\n",
       "      <td>1600053847</td>\n",
       "    </tr>\n",
       "    <tr>\n",
       "      <th>2</th>\n",
       "      <td>ushuaia</td>\n",
       "      <td>-54.80</td>\n",
       "      <td>-68.30</td>\n",
       "      <td>44.60</td>\n",
       "      <td>56</td>\n",
       "      <td>75</td>\n",
       "      <td>20.80</td>\n",
       "      <td>AR</td>\n",
       "      <td>1600053847</td>\n",
       "    </tr>\n",
       "    <tr>\n",
       "      <th>3</th>\n",
       "      <td>punta arenas</td>\n",
       "      <td>-53.15</td>\n",
       "      <td>-70.92</td>\n",
       "      <td>44.60</td>\n",
       "      <td>65</td>\n",
       "      <td>100</td>\n",
       "      <td>11.41</td>\n",
       "      <td>CL</td>\n",
       "      <td>1600053790</td>\n",
       "    </tr>\n",
       "    <tr>\n",
       "      <th>4</th>\n",
       "      <td>luderitz</td>\n",
       "      <td>-26.65</td>\n",
       "      <td>15.16</td>\n",
       "      <td>52.86</td>\n",
       "      <td>67</td>\n",
       "      <td>0</td>\n",
       "      <td>20.13</td>\n",
       "      <td>NA</td>\n",
       "      <td>1600053847</td>\n",
       "    </tr>\n",
       "  </tbody>\n",
       "</table>\n",
       "</div>"
      ],
      "text/plain": [
       "           City    Lat    Lng  Max Temp  Humidity  Cloudiness  Wind Speed  \\\n",
       "0      cidreira -30.18 -50.21     65.73        89          98        8.81   \n",
       "1    nanortalik  60.14 -45.24     37.71        74          52        3.29   \n",
       "2       ushuaia -54.80 -68.30     44.60        56          75       20.80   \n",
       "3  punta arenas -53.15 -70.92     44.60        65         100       11.41   \n",
       "4      luderitz -26.65  15.16     52.86        67           0       20.13   \n",
       "\n",
       "  Country        Date  \n",
       "0      BR  1600053846  \n",
       "1      GL  1600053847  \n",
       "2      AR  1600053847  \n",
       "3      CL  1600053790  \n",
       "4      NA  1600053847  "
      ]
     },
     "execution_count": 42,
     "metadata": {},
     "output_type": "execute_result"
    }
   ],
   "source": [
    "weather.head()"
   ]
  },
  {
   "cell_type": "markdown",
   "metadata": {},
   "source": [
    "## Inspect the data and remove the cities where the humidity > 100%.\n",
    "----\n",
    "Skip this step if there are no cities that have humidity > 100%. "
   ]
  },
  {
   "cell_type": "code",
   "execution_count": 43,
   "metadata": {},
   "outputs": [
    {
     "data": {
      "text/html": [
       "<div>\n",
       "<style scoped>\n",
       "    .dataframe tbody tr th:only-of-type {\n",
       "        vertical-align: middle;\n",
       "    }\n",
       "\n",
       "    .dataframe tbody tr th {\n",
       "        vertical-align: top;\n",
       "    }\n",
       "\n",
       "    .dataframe thead th {\n",
       "        text-align: right;\n",
       "    }\n",
       "</style>\n",
       "<table border=\"1\" class=\"dataframe\">\n",
       "  <thead>\n",
       "    <tr style=\"text-align: right;\">\n",
       "      <th></th>\n",
       "      <th>Lat</th>\n",
       "      <th>Lng</th>\n",
       "      <th>Max Temp</th>\n",
       "      <th>Humidity</th>\n",
       "      <th>Cloudiness</th>\n",
       "      <th>Wind Speed</th>\n",
       "      <th>Date</th>\n",
       "    </tr>\n",
       "  </thead>\n",
       "  <tbody>\n",
       "    <tr>\n",
       "      <th>count</th>\n",
       "      <td>524.000000</td>\n",
       "      <td>524.000000</td>\n",
       "      <td>524.000000</td>\n",
       "      <td>524.000000</td>\n",
       "      <td>524.000000</td>\n",
       "      <td>524.000000</td>\n",
       "      <td>5.240000e+02</td>\n",
       "    </tr>\n",
       "    <tr>\n",
       "      <th>mean</th>\n",
       "      <td>19.800305</td>\n",
       "      <td>17.798321</td>\n",
       "      <td>66.238244</td>\n",
       "      <td>72.312977</td>\n",
       "      <td>50.585878</td>\n",
       "      <td>7.830076</td>\n",
       "      <td>1.600054e+09</td>\n",
       "    </tr>\n",
       "    <tr>\n",
       "      <th>std</th>\n",
       "      <td>33.681119</td>\n",
       "      <td>91.280820</td>\n",
       "      <td>14.628931</td>\n",
       "      <td>20.348525</td>\n",
       "      <td>39.240912</td>\n",
       "      <td>5.152412</td>\n",
       "      <td>1.375919e+02</td>\n",
       "    </tr>\n",
       "    <tr>\n",
       "      <th>min</th>\n",
       "      <td>-54.800000</td>\n",
       "      <td>-179.170000</td>\n",
       "      <td>20.280000</td>\n",
       "      <td>8.000000</td>\n",
       "      <td>0.000000</td>\n",
       "      <td>0.400000</td>\n",
       "      <td>1.600053e+09</td>\n",
       "    </tr>\n",
       "    <tr>\n",
       "      <th>25%</th>\n",
       "      <td>-7.637500</td>\n",
       "      <td>-60.870000</td>\n",
       "      <td>55.000000</td>\n",
       "      <td>63.000000</td>\n",
       "      <td>3.000000</td>\n",
       "      <td>3.650000</td>\n",
       "      <td>1.600054e+09</td>\n",
       "    </tr>\n",
       "    <tr>\n",
       "      <th>50%</th>\n",
       "      <td>22.905000</td>\n",
       "      <td>19.130000</td>\n",
       "      <td>68.000000</td>\n",
       "      <td>77.000000</td>\n",
       "      <td>54.000000</td>\n",
       "      <td>6.930000</td>\n",
       "      <td>1.600054e+09</td>\n",
       "    </tr>\n",
       "    <tr>\n",
       "      <th>75%</th>\n",
       "      <td>48.712500</td>\n",
       "      <td>98.667500</td>\n",
       "      <td>78.620000</td>\n",
       "      <td>87.000000</td>\n",
       "      <td>90.000000</td>\n",
       "      <td>10.935000</td>\n",
       "      <td>1.600054e+09</td>\n",
       "    </tr>\n",
       "    <tr>\n",
       "      <th>max</th>\n",
       "      <td>78.220000</td>\n",
       "      <td>179.320000</td>\n",
       "      <td>98.440000</td>\n",
       "      <td>100.000000</td>\n",
       "      <td>100.000000</td>\n",
       "      <td>28.860000</td>\n",
       "      <td>1.600054e+09</td>\n",
       "    </tr>\n",
       "  </tbody>\n",
       "</table>\n",
       "</div>"
      ],
      "text/plain": [
       "              Lat         Lng    Max Temp    Humidity  Cloudiness  Wind Speed  \\\n",
       "count  524.000000  524.000000  524.000000  524.000000  524.000000  524.000000   \n",
       "mean    19.800305   17.798321   66.238244   72.312977   50.585878    7.830076   \n",
       "std     33.681119   91.280820   14.628931   20.348525   39.240912    5.152412   \n",
       "min    -54.800000 -179.170000   20.280000    8.000000    0.000000    0.400000   \n",
       "25%     -7.637500  -60.870000   55.000000   63.000000    3.000000    3.650000   \n",
       "50%     22.905000   19.130000   68.000000   77.000000   54.000000    6.930000   \n",
       "75%     48.712500   98.667500   78.620000   87.000000   90.000000   10.935000   \n",
       "max     78.220000  179.320000   98.440000  100.000000  100.000000   28.860000   \n",
       "\n",
       "               Date  \n",
       "count  5.240000e+02  \n",
       "mean   1.600054e+09  \n",
       "std    1.375919e+02  \n",
       "min    1.600053e+09  \n",
       "25%    1.600054e+09  \n",
       "50%    1.600054e+09  \n",
       "75%    1.600054e+09  \n",
       "max    1.600054e+09  "
      ]
     },
     "execution_count": 43,
     "metadata": {},
     "output_type": "execute_result"
    }
   ],
   "source": [
    "weather.describe()"
   ]
  },
  {
   "cell_type": "code",
   "execution_count": 52,
   "metadata": {},
   "outputs": [
    {
     "data": {
      "text/html": [
       "<div>\n",
       "<style scoped>\n",
       "    .dataframe tbody tr th:only-of-type {\n",
       "        vertical-align: middle;\n",
       "    }\n",
       "\n",
       "    .dataframe tbody tr th {\n",
       "        vertical-align: top;\n",
       "    }\n",
       "\n",
       "    .dataframe thead th {\n",
       "        text-align: right;\n",
       "    }\n",
       "</style>\n",
       "<table border=\"1\" class=\"dataframe\">\n",
       "  <thead>\n",
       "    <tr style=\"text-align: right;\">\n",
       "      <th></th>\n",
       "      <th>City</th>\n",
       "    </tr>\n",
       "  </thead>\n",
       "  <tbody>\n",
       "  </tbody>\n",
       "</table>\n",
       "</div>"
      ],
      "text/plain": [
       "Empty DataFrame\n",
       "Columns: [City]\n",
       "Index: []"
      ]
     },
     "execution_count": 52,
     "metadata": {},
     "output_type": "execute_result"
    }
   ],
   "source": [
    "#  Get the indices of cities that have humidity over 100%.\n",
    "weather.loc[weather[\"Humidity\"]>100, [\"City\"]]"
   ]
  },
  {
   "cell_type": "code",
   "execution_count": 55,
   "metadata": {},
   "outputs": [],
   "source": [
    "# Extract relevant fields from the data frame\n",
    "\n",
    "csv_export = weather[[\"City\", \"Cloudiness\",\"Country\",\"Date\",\"Humidity\",\"Lat\",\"Lng\",\"Max Temp\",\"Wind Speed\"]]\n",
    "\n",
    "# Export the City_Data into a csv\n",
    "csv_export.to_csv(output_data_file,index_label=\"City_ID\")"
   ]
  },
  {
   "cell_type": "markdown",
   "metadata": {},
   "source": [
    "## Plotting the Data\n",
    "* Use proper labeling of the plots using plot titles (including date of analysis) and axes labels.\n",
    "* Save the plotted figures as .pngs."
   ]
  },
  {
   "cell_type": "code",
   "execution_count": 56,
   "metadata": {},
   "outputs": [
    {
     "data": {
      "text/html": [
       "<div>\n",
       "<style scoped>\n",
       "    .dataframe tbody tr th:only-of-type {\n",
       "        vertical-align: middle;\n",
       "    }\n",
       "\n",
       "    .dataframe tbody tr th {\n",
       "        vertical-align: top;\n",
       "    }\n",
       "\n",
       "    .dataframe thead th {\n",
       "        text-align: right;\n",
       "    }\n",
       "</style>\n",
       "<table border=\"1\" class=\"dataframe\">\n",
       "  <thead>\n",
       "    <tr style=\"text-align: right;\">\n",
       "      <th></th>\n",
       "      <th>City</th>\n",
       "      <th>Lat</th>\n",
       "      <th>Lng</th>\n",
       "      <th>Max Temp</th>\n",
       "      <th>Humidity</th>\n",
       "      <th>Cloudiness</th>\n",
       "      <th>Wind Speed</th>\n",
       "      <th>Country</th>\n",
       "      <th>Date</th>\n",
       "    </tr>\n",
       "  </thead>\n",
       "  <tbody>\n",
       "    <tr>\n",
       "      <th>0</th>\n",
       "      <td>cidreira</td>\n",
       "      <td>-30.18</td>\n",
       "      <td>-50.21</td>\n",
       "      <td>65.73</td>\n",
       "      <td>89</td>\n",
       "      <td>98</td>\n",
       "      <td>8.81</td>\n",
       "      <td>BR</td>\n",
       "      <td>1600053846</td>\n",
       "    </tr>\n",
       "    <tr>\n",
       "      <th>1</th>\n",
       "      <td>nanortalik</td>\n",
       "      <td>60.14</td>\n",
       "      <td>-45.24</td>\n",
       "      <td>37.71</td>\n",
       "      <td>74</td>\n",
       "      <td>52</td>\n",
       "      <td>3.29</td>\n",
       "      <td>GL</td>\n",
       "      <td>1600053847</td>\n",
       "    </tr>\n",
       "    <tr>\n",
       "      <th>2</th>\n",
       "      <td>ushuaia</td>\n",
       "      <td>-54.80</td>\n",
       "      <td>-68.30</td>\n",
       "      <td>44.60</td>\n",
       "      <td>56</td>\n",
       "      <td>75</td>\n",
       "      <td>20.80</td>\n",
       "      <td>AR</td>\n",
       "      <td>1600053847</td>\n",
       "    </tr>\n",
       "    <tr>\n",
       "      <th>3</th>\n",
       "      <td>punta arenas</td>\n",
       "      <td>-53.15</td>\n",
       "      <td>-70.92</td>\n",
       "      <td>44.60</td>\n",
       "      <td>65</td>\n",
       "      <td>100</td>\n",
       "      <td>11.41</td>\n",
       "      <td>CL</td>\n",
       "      <td>1600053790</td>\n",
       "    </tr>\n",
       "    <tr>\n",
       "      <th>4</th>\n",
       "      <td>luderitz</td>\n",
       "      <td>-26.65</td>\n",
       "      <td>15.16</td>\n",
       "      <td>52.86</td>\n",
       "      <td>67</td>\n",
       "      <td>0</td>\n",
       "      <td>20.13</td>\n",
       "      <td>NA</td>\n",
       "      <td>1600053847</td>\n",
       "    </tr>\n",
       "  </tbody>\n",
       "</table>\n",
       "</div>"
      ],
      "text/plain": [
       "           City    Lat    Lng  Max Temp  Humidity  Cloudiness  Wind Speed  \\\n",
       "0      cidreira -30.18 -50.21     65.73        89          98        8.81   \n",
       "1    nanortalik  60.14 -45.24     37.71        74          52        3.29   \n",
       "2       ushuaia -54.80 -68.30     44.60        56          75       20.80   \n",
       "3  punta arenas -53.15 -70.92     44.60        65         100       11.41   \n",
       "4      luderitz -26.65  15.16     52.86        67           0       20.13   \n",
       "\n",
       "  Country        Date  \n",
       "0      BR  1600053846  \n",
       "1      GL  1600053847  \n",
       "2      AR  1600053847  \n",
       "3      CL  1600053790  \n",
       "4      NA  1600053847  "
      ]
     },
     "execution_count": 56,
     "metadata": {},
     "output_type": "execute_result"
    }
   ],
   "source": [
    "weather.head()"
   ]
  },
  {
   "cell_type": "markdown",
   "metadata": {},
   "source": [
    "## Latitude vs. Temperature Plot"
   ]
  },
  {
   "cell_type": "code",
   "execution_count": 61,
   "metadata": {},
   "outputs": [
    {
     "data": {
      "image/png": "[encoded data removed]",
      "text/plain": [
       "<Figure size 432x288 with 1 Axes>"
      ]
     },
     "metadata": {
      "needs_background": "light"
     },
     "output_type": "display_data"
    }
   ],
   "source": [
    "plt.scatter(weather[\"Lat\"], weather[\"Max Temp\"], edgecolors=\"black\",facecolors=\"green\")\n",
    "plt.title(\"City Latitude vs. Max Temperature (09/14/20)\")\n",
    "plt.xlabel(\"Latitude\")\n",
    "plt.ylabel(\"Max Temperature (F)\")\n",
    "plt.grid (linestyle=\"-\",color=\"black\", alpha =0.5)\n",
    "plt.savefig(\"output_data/fig1.png\")\n",
    "plt.show()\n",
    "\n",
    "#This plot shows how hot 524 cities are across the world by latitude. As expected, the closer the city\n",
    "#is to the equator \"0\", the hotter it is."
   ]
  },
  {
   "cell_type": "markdown",
   "metadata": {},
   "source": [
    "## Latitude vs. Humidity Plot"
   ]
  },
  {
   "cell_type": "code",
   "execution_count": 62,
   "metadata": {},
   "outputs": [
    {
     "data": {
      "image/png": "[encoded data removed]",
      "text/plain": [
       "<Figure size 432x288 with 1 Axes>"
      ]
     },
     "metadata": {
      "needs_background": "light"
     },
     "output_type": "display_data"
    }
   ],
   "source": [
    "plt.scatter(weather[\"Lat\"], weather[\"Humidity\"], edgecolors=\"black\",facecolors=\"green\")\n",
    "plt.title(\"City Latitude vs. Humidity (09/14/20)\")\n",
    "plt.xlabel(\"Latitude\")\n",
    "plt.ylabel(\"Humidity (%)\")\n",
    "plt.grid (linestyle=\"-\",color=\"black\", alpha =0.5)\n",
    "plt.savefig(\"output_data/fig2.png\")\n",
    "plt.show()\n",
    "\n",
    "#This plot shows how humid 524 cities are across the world by latitude. We can see that most of the \n",
    "#world is humid regardles of location to the equator."
   ]
  },
  {
   "cell_type": "markdown",
   "metadata": {},
   "source": [
    "## Latitude vs. Cloudiness Plot"
   ]
  },
  {
   "cell_type": "code",
   "execution_count": 65,
   "metadata": {},
   "outputs": [
    {
     "data": {
      "image/png": "[encoded data removed]",
      "text/plain": [
       "<Figure size 432x288 with 1 Axes>"
      ]
     },
     "metadata": {
      "needs_background": "light"
     },
     "output_type": "display_data"
    }
   ],
   "source": [
    "plt.scatter(weather[\"Lat\"], weather[\"Cloudiness\"], edgecolors=\"black\",facecolors=\"green\")\n",
    "plt.title(\"City Latitude vs. Cloudiness (09/14/20)\")\n",
    "plt.xlabel(\"Latitude\")\n",
    "plt.ylabel(\"Cloudiness (%)\")\n",
    "plt.grid (linestyle=\"-\",color=\"black\", alpha =0.5)\n",
    "plt.savefig(\"output_data/fig3.png\")\n",
    "plt.show()\n",
    "\n",
    "#This plot shows how cloudy 524 cities are across the world by latitude. It looks like alot of cities\n",
    "#are either very cloudy or not."
   ]
  },
  {
   "cell_type": "markdown",
   "metadata": {},
   "source": [
    "## Latitude vs. Wind Speed Plot"
   ]
  },
  {
   "cell_type": "code",
   "execution_count": 66,
   "metadata": {},
   "outputs": [
    {
     "data": {
      "image/png": "[encoded data removed]",
      "text/plain": [
       "<Figure size 432x288 with 1 Axes>"
      ]
     },
     "metadata": {
      "needs_background": "light"
     },
     "output_type": "display_data"
    }
   ],
   "source": [
    "plt.scatter(weather[\"Lat\"], weather[\"Wind Speed\"], edgecolors=\"black\",facecolors=\"green\")\n",
    "plt.title(\"City Latitude vs. Wind Speed (09/14/20)\")\n",
    "plt.xlabel(\"Latitude\")\n",
    "plt.ylabel(\"Wind Speed (mph)\")\n",
    "plt.grid (linestyle=\"-\",color=\"black\", alpha =0.5)\n",
    "plt.savefig(\"output_data/fig4.png\")\n",
    "plt.show()\n",
    "\n",
    "#This plot shows the wind speed of 524 cities are across the world by latitude. Most cities have low \n",
    "#wind speeds regardless of closeness to the equator."
   ]
  },
  {
   "cell_type": "markdown",
   "metadata": {},
   "source": [
    "## Linear Regression"
   ]
  },
  {
   "cell_type": "code",
   "execution_count": 98,
   "metadata": {},
   "outputs": [
    {
     "data": {
      "text/html": [
       "<div>\n",
       "<style scoped>\n",
       "    .dataframe tbody tr th:only-of-type {\n",
       "        vertical-align: middle;\n",
       "    }\n",
       "\n",
       "    .dataframe tbody tr th {\n",
       "        vertical-align: top;\n",
       "    }\n",
       "\n",
       "    .dataframe thead th {\n",
       "        text-align: right;\n",
       "    }\n",
       "</style>\n",
       "<table border=\"1\" class=\"dataframe\">\n",
       "  <thead>\n",
       "    <tr style=\"text-align: right;\">\n",
       "      <th></th>\n",
       "      <th>Lat</th>\n",
       "      <th>Lng</th>\n",
       "      <th>Max Temp</th>\n",
       "      <th>Humidity</th>\n",
       "      <th>Cloudiness</th>\n",
       "      <th>Wind Speed</th>\n",
       "      <th>Date</th>\n",
       "    </tr>\n",
       "  </thead>\n",
       "  <tbody>\n",
       "    <tr>\n",
       "      <th>count</th>\n",
       "      <td>167.000000</td>\n",
       "      <td>167.000000</td>\n",
       "      <td>167.000000</td>\n",
       "      <td>167.000000</td>\n",
       "      <td>167.000000</td>\n",
       "      <td>167.000000</td>\n",
       "      <td>1.670000e+02</td>\n",
       "    </tr>\n",
       "    <tr>\n",
       "      <th>mean</th>\n",
       "      <td>-21.282575</td>\n",
       "      <td>32.311078</td>\n",
       "      <td>67.862096</td>\n",
       "      <td>68.754491</td>\n",
       "      <td>36.646707</td>\n",
       "      <td>9.276467</td>\n",
       "      <td>1.600054e+09</td>\n",
       "    </tr>\n",
       "    <tr>\n",
       "      <th>std</th>\n",
       "      <td>13.685469</td>\n",
       "      <td>95.959549</td>\n",
       "      <td>12.746297</td>\n",
       "      <td>19.524303</td>\n",
       "      <td>35.534317</td>\n",
       "      <td>5.854195</td>\n",
       "      <td>1.478708e+02</td>\n",
       "    </tr>\n",
       "    <tr>\n",
       "      <th>min</th>\n",
       "      <td>-54.800000</td>\n",
       "      <td>-175.200000</td>\n",
       "      <td>38.770000</td>\n",
       "      <td>17.000000</td>\n",
       "      <td>0.000000</td>\n",
       "      <td>1.010000</td>\n",
       "      <td>1.600053e+09</td>\n",
       "    </tr>\n",
       "    <tr>\n",
       "      <th>25%</th>\n",
       "      <td>-33.620000</td>\n",
       "      <td>-54.220000</td>\n",
       "      <td>58.225000</td>\n",
       "      <td>58.000000</td>\n",
       "      <td>0.500000</td>\n",
       "      <td>4.195000</td>\n",
       "      <td>1.600054e+09</td>\n",
       "    </tr>\n",
       "    <tr>\n",
       "      <th>50%</th>\n",
       "      <td>-20.730000</td>\n",
       "      <td>26.890000</td>\n",
       "      <td>68.410000</td>\n",
       "      <td>74.000000</td>\n",
       "      <td>27.000000</td>\n",
       "      <td>8.430000</td>\n",
       "      <td>1.600054e+09</td>\n",
       "    </tr>\n",
       "    <tr>\n",
       "      <th>75%</th>\n",
       "      <td>-9.295000</td>\n",
       "      <td>131.120000</td>\n",
       "      <td>77.850000</td>\n",
       "      <td>83.000000</td>\n",
       "      <td>75.000000</td>\n",
       "      <td>12.750000</td>\n",
       "      <td>1.600054e+09</td>\n",
       "    </tr>\n",
       "    <tr>\n",
       "      <th>max</th>\n",
       "      <td>-0.090000</td>\n",
       "      <td>176.630000</td>\n",
       "      <td>95.500000</td>\n",
       "      <td>99.000000</td>\n",
       "      <td>100.000000</td>\n",
       "      <td>23.420000</td>\n",
       "      <td>1.600054e+09</td>\n",
       "    </tr>\n",
       "  </tbody>\n",
       "</table>\n",
       "</div>"
      ],
      "text/plain": [
       "              Lat         Lng    Max Temp    Humidity  Cloudiness  Wind Speed  \\\n",
       "count  167.000000  167.000000  167.000000  167.000000  167.000000  167.000000   \n",
       "mean   -21.282575   32.311078   67.862096   68.754491   36.646707    9.276467   \n",
       "std     13.685469   95.959549   12.746297   19.524303   35.534317    5.854195   \n",
       "min    -54.800000 -175.200000   38.770000   17.000000    0.000000    1.010000   \n",
       "25%    -33.620000  -54.220000   58.225000   58.000000    0.500000    4.195000   \n",
       "50%    -20.730000   26.890000   68.410000   74.000000   27.000000    8.430000   \n",
       "75%     -9.295000  131.120000   77.850000   83.000000   75.000000   12.750000   \n",
       "max     -0.090000  176.630000   95.500000   99.000000  100.000000   23.420000   \n",
       "\n",
       "               Date  \n",
       "count  1.670000e+02  \n",
       "mean   1.600054e+09  \n",
       "std    1.478708e+02  \n",
       "min    1.600053e+09  \n",
       "25%    1.600054e+09  \n",
       "50%    1.600054e+09  \n",
       "75%    1.600054e+09  \n",
       "max    1.600054e+09  "
      ]
     },
     "execution_count": 98,
     "metadata": {},
     "output_type": "execute_result"
    }
   ],
   "source": [
    "# Create Northern and Southern Hemisphere DataFrames\n",
    "north = weather.loc[weather[\"Lat\"]>=0]\n",
    "south = weather.loc[weather[\"Lat\"]<0]\n",
    "south.describe()"
   ]
  },
  {
   "cell_type": "code",
   "execution_count": 91,
   "metadata": {},
   "outputs": [],
   "source": [
    "# Define function for creating linear agression and scatter plot\n",
    "def linear_regress(x,y):\n",
    "    print(f\"r-squared  = {round(st.pearsonr(x, y)[0],4)}\")\n",
    "    (slope, intercept, rvalue, pvalue, stderr) = linregress(x, y)\n",
    "    regress_values = x * slope + intercept\n",
    "    line_eq = \"y = \" + str(round(slope,2)) + \"x + \" + str(round(intercept,2))\n",
    "    plt.scatter(x, y, color =\"green\")\n",
    "    plt.plot(x,regress_values,\"navy\")\n",
    "    return line_eq\n",
    "\n",
    "# Define a fuction for annotating\n",
    "def annotate(line_eq, a, b):\n",
    "    plt.annotate(line_eq,(a,b),fontsize=15,color=\"red\")"
   ]
  },
  {
   "cell_type": "markdown",
   "metadata": {},
   "source": [
    "####  Northern Hemisphere - Max Temp vs. Latitude Linear Regression"
   ]
  },
  {
   "cell_type": "code",
   "execution_count": 92,
   "metadata": {},
   "outputs": [
    {
     "name": "stdout",
     "output_type": "stream",
     "text": [
      "r-squared  = -0.821\n"
     ]
    },
    {
     "data": {
      "image/png": "[encoded data removed]",
      "text/plain": [
       "<Figure size 432x288 with 1 Axes>"
      ]
     },
     "metadata": {
      "needs_background": "light"
     },
     "output_type": "display_data"
    }
   ],
   "source": [
    "line_eq1=linear_regress(north[\"Lat\"], north[\"Max Temp\"])\n",
    "annotate(line_eq1, 7,50)\n",
    "plt.title(\"Northern Hemisphere Linear Regression - Latitude vs. Max Temperature (09/14/20)\")\n",
    "plt.xlabel(\"Latitude\")\n",
    "plt.ylabel(\"Max Temperature (F)\")\n",
    "\n",
    "plt.savefig(\"output_data/fig5.png\")\n",
    "plt.show()\n",
    "\n",
    "#This plot shows how hot the Northern Hemisphere is of 524 cities are across the world by latitude.\n",
    "#As expected, there's a high negative correlation meaning\n",
    "#the closer the city is to the equator \"0\", the hotter it is."
   ]
  },
  {
   "cell_type": "markdown",
   "metadata": {},
   "source": [
    "####  Southern Hemisphere - Max Temp vs. Latitude Linear Regression"
   ]
  },
  {
   "cell_type": "code",
   "execution_count": 93,
   "metadata": {},
   "outputs": [
    {
     "name": "stdout",
     "output_type": "stream",
     "text": [
      "r-squared  = 0.6959\n"
     ]
    },
    {
     "data": {
      "image/png": "[encoded data removed]",
      "text/plain": [
       "<Figure size 432x288 with 1 Axes>"
      ]
     },
     "metadata": {
      "needs_background": "light"
     },
     "output_type": "display_data"
    }
   ],
   "source": [
    "line_eq2=linear_regress(south[\"Lat\"], south[\"Max Temp\"])\n",
    "annotate(line_eq2, -50,90)\n",
    "plt.title(\"Southern Hemisphere Linear Regression - Latitude vs. Max Temperature (09/14/20)\")\n",
    "plt.xlabel(\"Latitude\")\n",
    "plt.ylabel(\"Max Temperature (F)\")\n",
    "\n",
    "plt.savefig(\"output_data/fig6.png\")\n",
    "plt.show()\n",
    "\n",
    "#This plot shows how hot the Southern Hemisphere is of 524 cities are across the world by latitude.\n",
    "#As expected, there's a good amount positive correlation meaning\n",
    "#the closer the city is to the equator \"0\", the hotter it is. \n",
    "#The r-squared may be lower than the north due to pull less data from the random sampling."
   ]
  },
  {
   "cell_type": "markdown",
   "metadata": {},
   "source": [
    "####  Northern Hemisphere - Humidity (%) vs. Latitude Linear Regression"
   ]
  },
  {
   "cell_type": "code",
   "execution_count": 94,
   "metadata": {
    "scrolled": true
   },
   "outputs": [
    {
     "name": "stdout",
     "output_type": "stream",
     "text": [
      "r-squared  = -0.0036\n"
     ]
    },
    {
     "data": {
      "image/png": "[encoded data removed]",
      "text/plain": [
       "<Figure size 432x288 with 1 Axes>"
      ]
     },
     "metadata": {
      "needs_background": "light"
     },
     "output_type": "display_data"
    }
   ],
   "source": [
    "line_eq3=linear_regress(north[\"Lat\"], north[\"Humidity\"])\n",
    "annotate(line_eq3, 40,20)\n",
    "plt.title(\"Northern Hemisphere Linear Regression - Latitude vs. Humidity (09/14/20)\")\n",
    "plt.xlabel(\"Latitude\")\n",
    "plt.ylabel(\"Humidity (%)\")\n",
    "\n",
    "plt.savefig(\"output_data/fig7.png\")\n",
    "plt.show()\n",
    "\n",
    "#This plot shows how humid the Northern Hemisphere is of 524 cities across the world by latitude.\n",
    "#As expected, there isn't a correlation of humidity by latitude."
   ]
  },
  {
   "cell_type": "markdown",
   "metadata": {},
   "source": [
    "####  Southern Hemisphere - Humidity (%) vs. Latitude Linear Regression"
   ]
  },
  {
   "cell_type": "code",
   "execution_count": 95,
   "metadata": {},
   "outputs": [
    {
     "name": "stdout",
     "output_type": "stream",
     "text": [
      "r-squared  = 0.0821\n"
     ]
    },
    {
     "data": {
      "image/png": "[encoded data removed]",
      "text/plain": [
       "<Figure size 432x288 with 1 Axes>"
      ]
     },
     "metadata": {
      "needs_background": "light"
     },
     "output_type": "display_data"
    }
   ],
   "source": [
    "line_eq4=linear_regress(south[\"Lat\"], south[\"Humidity\"])\n",
    "annotate(line_eq4, -50,20)\n",
    "plt.title(\"Southern Hemisphere Linear Regression - Latitude vs. Humidity (09/14/20)\")\n",
    "plt.xlabel(\"Latitude\")\n",
    "plt.ylabel(\"Humidity (%)\")\n",
    "\n",
    "plt.savefig(\"output_data/fig8.png\")\n",
    "plt.show()\n",
    "\n",
    "#This plot shows how humid the southern Hemisphere is of 524 cities across the world by latitude.\n",
    "#As expected, there isn't much correlation of humidity by latitude.\n",
    "#This means humidity is not specific to any one location or distance from equator."
   ]
  },
  {
   "cell_type": "markdown",
   "metadata": {},
   "source": [
    "####  Northern Hemisphere - Cloudiness (%) vs. Latitude Linear Regression"
   ]
  },
  {
   "cell_type": "code",
   "execution_count": 99,
   "metadata": {},
   "outputs": [
    {
     "name": "stdout",
     "output_type": "stream",
     "text": [
      "r-squared  = 0.088\n"
     ]
    },
    {
     "data": {
      "image/png": "[encoded data removed]",
      "text/plain": [
       "<Figure size 432x288 with 1 Axes>"
      ]
     },
     "metadata": {
      "needs_background": "light"
     },
     "output_type": "display_data"
    }
   ],
   "source": [
    "line_eq5=linear_regress(north[\"Lat\"], north[\"Cloudiness\"])\n",
    "annotate(line_eq5, 40,20)\n",
    "plt.title(\"Northern Hemisphere Linear Regression - Latitude vs. Cloudiness (09/14/20)\")\n",
    "plt.xlabel(\"Latitude\")\n",
    "plt.ylabel(\"Cloudiness (%)\")\n",
    "\n",
    "plt.savefig(\"output_data/fig9.png\")\n",
    "plt.show()\n",
    "\n",
    "#This plot shows how cloudy the Northern Hemisphere is of 524 cities across the world by latitude.\n",
    "#As expected, there isn't a correlation of cloudiness by latitude because clouds move all around\n",
    "#the world."
   ]
  },
  {
   "cell_type": "markdown",
   "metadata": {},
   "source": [
    "####  Southern Hemisphere - Cloudiness (%) vs. Latitude Linear Regression"
   ]
  },
  {
   "cell_type": "code",
   "execution_count": 100,
   "metadata": {},
   "outputs": [
    {
     "name": "stdout",
     "output_type": "stream",
     "text": [
      "r-squared  = 0.1697\n"
     ]
    },
    {
     "data": {
      "image/png": "[encoded data removed]",
      "text/plain": [
       "<Figure size 432x288 with 1 Axes>"
      ]
     },
     "metadata": {
      "needs_background": "light"
     },
     "output_type": "display_data"
    }
   ],
   "source": [
    "line_eq6=linear_regress(south[\"Lat\"], south[\"Cloudiness\"])\n",
    "annotate(line_eq6, -30,25)\n",
    "plt.title(\"Southern Hemisphere Linear Regression - Latitude vs. Cloudiness (09/14/20)\")\n",
    "plt.xlabel(\"Latitude\")\n",
    "plt.ylabel(\"Cloudiness (%)\")\n",
    "\n",
    "plt.savefig(\"output_data/fig10.png\")\n",
    "plt.show()\n",
    "\n",
    "#This plot shows how cloudy the Southern Hemisphere is of 524 cities across the world by latitude.\n",
    "#As expected, there isn't much correlation of cloudiness by latitude because clouds move all around\n",
    "#the world."
   ]
  },
  {
   "cell_type": "markdown",
   "metadata": {},
   "source": [
    "####  Northern Hemisphere - Wind Speed (mph) vs. Latitude Linear Regression"
   ]
  },
  {
   "cell_type": "code",
   "execution_count": 101,
   "metadata": {},
   "outputs": [
    {
     "name": "stdout",
     "output_type": "stream",
     "text": [
      "r-squared  = 0.2357\n"
     ]
    },
    {
     "data": {
      "image/png": "[encoded data removed]",
      "text/plain": [
       "<Figure size 432x288 with 1 Axes>"
      ]
     },
     "metadata": {
      "needs_background": "light"
     },
     "output_type": "display_data"
    }
   ],
   "source": [
    "line_eq7=linear_regress(north[\"Lat\"], north[\"Wind Speed\"])\n",
    "annotate(line_eq7, 40,25)\n",
    "plt.title(\"Northern Hemisphere Linear Regression - Latitude vs. Wind Speed (09/14/20)\")\n",
    "plt.xlabel(\"Latitude\")\n",
    "plt.ylabel(\"Wind Speed (mph)\")\n",
    "\n",
    "plt.savefig(\"output_data/fig11.png\")\n",
    "plt.show()\n",
    "\n",
    "#This plot shows how fast winds move in the Northern Hemisphere within 524 cities across the world by latitude.\n",
    "#As expected, there isn't a correlation of wind speed by latitude because winds are not discrminate to\n",
    "#one part of the world."
   ]
  },
  {
   "cell_type": "markdown",
   "metadata": {},
   "source": [
    "####  Southern Hemisphere - Wind Speed (mph) vs. Latitude Linear Regression"
   ]
  },
  {
   "cell_type": "code",
   "execution_count": 102,
   "metadata": {},
   "outputs": [
    {
     "name": "stdout",
     "output_type": "stream",
     "text": [
      "r-squared  = -0.2413\n"
     ]
    },
    {
     "data": {
      "image/png": "[encoded data removed]",
      "text/plain": [
       "<Figure size 432x288 with 1 Axes>"
      ]
     },
     "metadata": {
      "needs_background": "light"
     },
     "output_type": "display_data"
    }
   ],
   "source": [
    "line_eq8=linear_regress(south[\"Lat\"], south[\"Wind Speed\"])\n",
    "annotate(line_eq8, -50,20)\n",
    "plt.title(\"Southern Hemisphere Linear Regression - Latitude vs. Wind Speed (09/14/20)\")\n",
    "plt.xlabel(\"Latitude\")\n",
    "plt.ylabel(\"Wind Speed (mph)\")\n",
    "\n",
    "plt.savefig(\"output_data/fig12.png\")\n",
    "plt.show()\n",
    "\n",
    "#This plot shows how fast winds move in the Southern Hemisphere within 524 cities across the world by latitude.\n",
    "#As expected, there isn't a correlation of wind speed by latitude because winds are not discrminate to\n",
    "#one part of the world."
   ]
  },
  {
   "cell_type": "code",
   "execution_count": null,
   "metadata": {},
   "outputs": [],
   "source": []
  }
 ],
 "metadata": {
  "anaconda-cloud": {},
  "kernel_info": {
   "name": "python3"
  },
  "kernelspec": {
   "display_name": "Python 3",
   "language": "python",
   "name": "python3"
  },
  "language_info": {
   "codemirror_mode": {
    "name": "ipython",
    "version": 3
   },
   "file_extension": ".py",
   "mimetype": "text/x-python",
   "name": "python",
   "nbconvert_exporter": "python",
   "pygments_lexer": "ipython3",
   "version": "3.8.3"
  },
  "latex_envs": {
   "LaTeX_envs_menu_present": true,
   "autoclose": false,
   "autocomplete": true,
   "bibliofile": "biblio.bib",
   "cite_by": "apalike",
   "current_citInitial": 1,
   "eqLabelWithNumbers": true,
   "eqNumInitial": 1,
   "hotkeys": {
    "equation": "Ctrl-E",
    "itemize": "Ctrl-I"
   },
   "labels_anchors": false,
   "latex_user_defs": false,
   "report_style_numbering": false,
   "user_envs_cfg": false
  },
  "nteract": {
   "version": "0.12.3"
  }
 },
 "nbformat": 4,
 "nbformat_minor": 2
}
